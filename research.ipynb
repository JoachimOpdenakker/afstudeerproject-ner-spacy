{
 "cells": [
  {
   "cell_type": "markdown",
   "id": "a3bc159a",
   "metadata": {},
   "source": [
    "# Progress file for NER training"
   ]
  },
  {
   "cell_type": "markdown",
   "id": "128e075a",
   "metadata": {},
   "source": [
    "## [Installatie](#Installatie)"
   ]
  },
  {
   "cell_type": "markdown",
   "id": "200ec817",
   "metadata": {},
   "source": [
    "### Installeer spacy in jupyter notebook env"
   ]
  },
  {
   "cell_type": "code",
   "execution_count": null,
   "id": "2c28127d",
   "metadata": {},
   "outputs": [],
   "source": [
    "import sys\n",
    "!{sys.executable} -m pip install spacy\n",
    "!{sys.executable} -m pip install unicode"
   ]
  },
  {
   "cell_type": "markdown",
   "id": "7a7ec813",
   "metadata": {},
   "source": [
    "### Installeer spacy voor windows"
   ]
  },
  {
   "cell_type": "markdown",
   "id": "608d46cc",
   "metadata": {},
   "source": [
    "1. Installeer anaconda\n",
    "    <div>Dit geeft een goede python omgeving om in te werken.</div>\n"
   ]
  },
  {
   "cell_type": "markdown",
   "id": "c2dac5f3",
   "metadata": {},
   "source": [
    "2. Installeer spacy in de anaconda terminal\n",
    "<div class=\"alert alert-block alert-info\">conda install -c conda-forge spacy </div>"
   ]
  },
  {
   "cell_type": "markdown",
   "id": "f650f1c1",
   "metadata": {},
   "source": [
    "### Installeer spacy for linux"
   ]
  },
  {
   "cell_type": "markdown",
   "id": "80a862f4",
   "metadata": {},
   "source": [
    "In een terminal met python geinstalleerd\n",
    "<div class=\"alert alert-block alert-info\">pip install spacy && pip install unicode</div>"
   ]
  },
  {
   "cell_type": "markdown",
   "id": "5c9c9769",
   "metadata": {},
   "source": [
    "## [Extracting_data_pickle_naar_csv](#Extracting_data_pickle_naar_csv)"
   ]
  },
  {
   "cell_type": "markdown",
   "id": "2e073749",
   "metadata": {},
   "source": [
    "Dit script doet hetvolgende:\n",
    "1. Dit script start met het kiezen van een pickle file.\n",
    "2. Colommen **address_1, address_2, person_ctry_code** apart nemen\n",
    "3. Drop all NAN records\n",
    "4. Sorteren op **person_ctry_code** en enkel EU landen\n",
    "5. **address_1 en address_2** in een csv file extracten\n",
    "\n",
    "<div class=\"alert alert-block alert-warning\">Het gedeelte in commentaar doet het zelfde maar dan met <b>street, city, zip_code.</b> Hiervoor hebben we ondervonden dat er minder ingevulde records zijn.</div>\n",
    "Windows\n",
    "<div class=\"alert alert-block alert-info\">python generate-spacy-format.py</div>\n",
    "Linux\n",
    "<div class=\"alert alert-block alert-info\">python3 generate-spacy-format.py</div>\n"
   ]
  },
  {
   "cell_type": "code",
   "execution_count": null,
   "id": "1b0fe296",
   "metadata": {},
   "outputs": [],
   "source": [
    "import pickle\n",
    "import pandas as pd\n",
    "\n",
    "df = pd.read_pickle(\"./data/samples/500ksample.pkl\")\n",
    "\n",
    "# extract_street = df.filter(items=['street', 'city', 'zip_code', 'person_ctry_code'])\n",
    "# dropstreet = extract_street.dropna()\n",
    "# filterstreet = dropstreet.sort_values(by=[('person_ctry_code')])\n",
    "# nostreet = filterstreet[filterstreet['person_ctry_code'].isin(['AT','BE','BG','CY','CZ','DE','DK','EE','ES','FI','FR','GR','HR','HU','IE','IT','LT','LU','LV','MT','NL','PO','PT','RO','SE','SI','SK'])]\n",
    "# dropstreet = dropstreet.sort_values(by=[('person_ctry_code')])\n",
    "# newstreet = dropstreet[dropstreet['person_ctry_code'].isin(['AT','BE','BG','CY','CZ','DE','DK','EE','ES','FI','FR','GR','HR','HU','IE','IT','LT','LU','LV','MT','NL','PO','PT','RO','SE','SI','SK'])]]\n",
    "# pf = pf.groupby(['person_ctry_code'])\n",
    "\n",
    "pf = df.filter(items=['address_1', 'address_2', 'person_ctry_code'])\n",
    "pf = pf.dropna()\n",
    "pf = pf.sort_values(by=[('person_ctry_code')])\n",
    "pf = pf[pf['person_ctry_code'].isin(['AT','BE','BG','CY','CZ','DE','DK','EE','ES','FI','FR','GR','HR','HU','IE','IT','LT','LU','LV','MT','NL','PO','PT','RO','SE','SI','SK'])]\n",
    "#pf = pf[pf['address_1'].str.match('[0-9]+( )?[a-zA-Z]+|[a-zA-Z]+( )?[0-9]+')]\n",
    "result = pf.filter(items=['address_1', 'address_2'])\n",
    "\n",
    "result.to_csv('./data/samples/500ksample-europefilter-address.csv', index=False)"
   ]
  },
  {
   "cell_type": "markdown",
   "id": "f7a03a2e",
   "metadata": {},
   "source": [
    "## [Genereer_trainingdata](#Genereer_trainingdata)"
   ]
  },
  {
   "cell_type": "markdown",
   "id": "383883c4",
   "metadata": {
    "tags": []
   },
   "source": [
    "## Parsing a csv file with European addresses to spaCy readable format\n",
    "Dit script gaat ons trainings data bezorgen van een op voorhand gegenereerde csv file.\n",
    "Doormiddel van gebruik van regex\n",
    "> TODO: regex uitleggen\n",
    "<div>\n",
    "Dit script maakt een \"training_EU.py\" file in de map /data/trainingData\n",
    "</div>\n",
    "<div>\n",
    "De data komt in het formaar:\n",
    "</div>\n",
    "\n",
    "<blockquote>\n",
    "TRAININGS_DATA = [<br>\n",
    "    &emsp;(\"Heipelweg 7,A-8700 Leoben\",[(0,9, \"STREET\"),(10,11, \"NUMBER\"),(19,25, \"CITY\"),(12,18, \"ZIPCODE\")]),<br>\n",
    "    &emsp;...<br>\n",
    "    ]<br>\n",
    "</blockquote>\n",
    "\n",
    "<div class=\"alert alert-block alert-warning\">Amerika is nog niet volledig klaar hier gaat u nog geen resultaat voor kunnen krijgen</div>\n",
    "\n",
    "#### Windows\n",
    "Europa:\n",
    "<div class=\"alert alert-block alert-info\">python generate-spacy-format.py -Europe <br> python generate-spacy-format.py -e </div>\n",
    "Amerika:\n",
    "<div class=\"alert alert-block alert-info\">python generate-spacy-format.py -American <br> python generate-spacy-format.py -a </div>\n",
    "\n",
    "#### Linux\n",
    "Europa:\n",
    "<div class=\"alert alert-block alert-info\">python3 generate-spacy-format.py -Europe <br> python3 generate-spacy-format.py -e </div>\n",
    "Amerika:\n",
    "<div class=\"alert alert-block alert-info\">python3 generate-spacy-format.py -American <br> python3 generate-spacy-format.py -a</div>\n"
   ]
  },
  {
   "cell_type": "code",
   "execution_count": null,
   "id": "2f1a9fe0",
   "metadata": {},
   "outputs": [],
   "source": [
    "import csv\n",
    "import re\n",
    "from unidecode import unidecode\n",
    "with open('./data/samples/500ksample-europefilter-address.csv', newline=\"\\n\") as csvfile:\n",
    "    csvreader = csv.reader(csvfile, delimiter=',')\n",
    "    counter = 0 \n",
    "    f = open(\"./output/EU/fouten.txt\", 'w')\n",
    "    f.close\n",
    "    f = open(\"./data/trainingData/training_EU.py\", 'w')\n",
    "    f.write(\"TRAININGS_DATA = [\\n\")\n",
    "    f.close()\n",
    "    counter = 0\n",
    "    fail_numberstreet = 0\n",
    "    fail_cityzip = 0 \n",
    "    for row in csvreader:\n",
    "        correct = True\n",
    "        counter += 1\n",
    "        # print(\"counter: \" + str(counter))\n",
    "        adres = ','.join(row)\n",
    "        adres = unidecode(adres)\n",
    "        if not re.match(\".*,.*,.*\", adres):\n",
    "            # print(\"counter: \" + str(counter))\n",
    "            adreslengte = len(adres)\n",
    "            adres1 = row[0]\n",
    "            totale_lengte_straat = len(adres1) + 1\n",
    "            adres2 = row[1]\n",
    "            # nummer + straat\n",
    "            if re.match('^([0-9\\-]+( ?bis)?) ([ \\u00C0-\\u017Fa-zA-Z\\'\\-]+)', adres1):\n",
    "                split = re.search('^([0-9\\-]+( ?bis)?) ([ \\u00C0-\\u017Fa-zA-Z\\'\\-]+)', adres1)\n",
    "                straat = split.span(3)\n",
    "                nummer = split.span(1)\n",
    "\n",
    "            # straat + nummer\n",
    "            elif re.match('^([ \\u00C0-\\u017Fa-zA-Z\\'\\-]+) ([0-9\\/\\-]+( ?[a-zA-Z]*)?)', adres1):\n",
    "                split = re.search('^([ \\u00C0-\\u017Fa-zA-Z\\'\\-]+) ([0-9\\/\\-]+( ?[a-zA-Z]*)?)', adres1)\n",
    "                straat = split.span(1)\n",
    "                nummer = split.span(2)\n",
    "            else:\n",
    "                f = open(\"./output/EU/fouten.txt\", 'a')\n",
    "                f.write(\"street: \" + adres + \"\\n\")\n",
    "                f.close()\n",
    "                fail_numberstreet +=1\n",
    "                correct = False\n",
    "            \n",
    "            # zipcode + city\n",
    "            if re.match('([ A-Z-]*[0-9]+( ?[A-Z]{2})?) ?([\\u00C0-\\u0338a-zA-Z ./-]+)$', adres2):\n",
    "                split = re.search('([ A-Z-]*[0-9]+( ?[A-Z]{2})?) ?([\\u00C0-\\u0338a-zA-Z ./-]+)$', adres2)\n",
    "                zipcode = list(split.span(1))\n",
    "                city = list(split.span(3))\n",
    "                zipcode[0] += totale_lengte_straat\n",
    "                zipcode[1] += totale_lengte_straat\n",
    "                city[0] += totale_lengte_straat\n",
    "                city[1] += totale_lengte_straat\n",
    "\n",
    "            # city + zipcode \n",
    "            elif re.match('([\\u00C0-\\u017Fa-zA-Z ./-]+) ?([ A-Z-]*[0-9]+)$', adres2):\n",
    "                split = re.search('([\\u00C0-\\u017Fa-zA-Z ./-]+) ?([ A-Z-]*[0-9]+)$', adres2)\n",
    "                zipcode = list(split.span(2))\n",
    "                city = list(split.span(1))\n",
    "                zipcode[0] += totale_lengte_straat\n",
    "                zipcode[1] += totale_lengte_straat\n",
    "                city[0] += totale_lengte_straat\n",
    "                city[1] += totale_lengte_straat\n",
    "            else:\n",
    "                f = open(\"./output/EU/fouten.txt\", 'a')\n",
    "                f.write(\"city: \" + adres + \"\\n\")\n",
    "                f.close()\n",
    "                fail_cityzip += 1\n",
    "                correct = False\n",
    "\n",
    "            if correct:\n",
    "                f = open(\"./data/trainingData/training_EU.py\", 'a')\n",
    "                f.write(\"\\t(\\\"\"+adres+\"\\\",\"+\"[(\"+str(straat[0])+\",\"+str(straat[1])+\", \\\"STREET\\\"),(\"+str(nummer[0])+\",\"+str(nummer[1])+\", \\\"NUMBER\\\"),(\"+str(city[0])+\",\"+str(city[1])+\", \\\"CITY\\\"),(\"+str(zipcode[0])+\",\"+str(zipcode[1])+\", \\\"ZIPCODE\\\")]),\\n\")\n",
    "                f.close()\n",
    "            # print(\"(\\\"\"+adres+\"\\\",\"+\"[(\"+str(straatposbegin)+\",\"+str(straatposeind)+\", \\\"STREET\\\"),(\"+str(nummerposbegin)+\",\"+str(nummerposeind)+\", \\\"NUMBER\\\"),(\"+str(cityposbegin)+\",\"+str(cityposeind)+\", \\\"CITY\\\"),(\"+str(zipcodeposbegin)+\",\"+str(zipcodeposeind)+\", \\\"ZIPCODE\\\")])\")\n",
    "    f = open(\"./data/trainingData/training_EU.py\", \"a\")\n",
    "    f.write(\"]\")\n",
    "    f.close()\n",
    "    print(\"failed on street: \", fail_numberstreet)\n",
    "    print(\"failed on city: \", fail_cityzip)"
   ]
  },
  {
   "cell_type": "markdown",
   "id": "f60493d9",
   "metadata": {},
   "source": [
    "## [Prepare_binarydata](#Prepare_binarydata)"
   ]
  },
  {
   "cell_type": "markdown",
   "id": "523d66c1",
   "metadata": {},
   "source": [
    "Hier wordt de \"/data/trainingData/training_EU.py\" file omgezet naar binaire data. <br>\n",
    "Dit wordt dan in de map \"/data/binaryData/\" als spacy file aangemaakt. De \"train.spacy\" is de data dat gebruikt wordt als training. Dit is 80% van de totale gegenereerde trainingsdata <br>\n",
    "\"dev.spacy\" is de validatiedata dat gebruikt wordt bij het trainen van het model. Dit is de resterende 20% van de totale trainingsdata."
   ]
  },
  {
   "cell_type": "markdown",
   "id": "da609486",
   "metadata": {},
   "source": [
    "### PrepareData.py"
   ]
  },
  {
   "cell_type": "code",
   "execution_count": null,
   "id": "390a1c7d",
   "metadata": {},
   "outputs": [],
   "source": [
    "import spacy\n",
    "import sys\n",
    "from spacy.tokens import DocBin\n",
    "sys.path.insert(0, './data/trainingData')\n",
    "from training_EU import TRAININGS_DATA as TD\n",
    "\n",
    "f = open(\"./output/problems.txt\", 'w')\n",
    "f.close()\n",
    "\n",
    "\n",
    "nlp = spacy.blank(\"en\")\n",
    "\n",
    "infixes = nlp.Defaults.infixes + [r'\\,']\n",
    "nlp.tokenizer.infix_finditer = spacy.util.compile_infix_regex(infixes).finditer\n",
    "\n",
    "db = DocBin()\n",
    "for text, annotations in TD:\n",
    "    doc = nlp(text)\n",
    "    ents = []\n",
    "    for start, end, label in annotations:\n",
    "        span = doc.char_span(start, end, label=label)\n",
    "        if span is None:\n",
    "            f = open(\"./output/problems.txt\", 'a')\n",
    "            f.write(\"Problem:\" + doc.text + \" (\" + doc.text[start:end] + \")\\n\")\n",
    "            f.close()\n",
    "        else:\n",
    "            ents.append(span)\n",
    "        doc.ents = ents\n",
    "        db.add(doc)\n",
    "db.to_disk(\"./data/binaryData/train.spacy\")\n",
    "\n",
    "db = DocBin()\n",
    "for text, annotations in TD:\n",
    "    doc = nlp(text)\n",
    "    ents = []\n",
    "    for start, end, label in annotations:\n",
    "        span = doc.char_span(start, end, label=label)\n",
    "        if span is not None:\n",
    "            ents.append(span)\n",
    "        doc.ents = ents\n",
    "        db.add(doc)\n",
    "db.to_disk(\"./data/binaryData/dev.spacy\")"
   ]
  },
  {
   "cell_type": "markdown",
   "id": "f56e862d",
   "metadata": {},
   "source": [
    "## [Start_training](#Start_training)"
   ]
  },
  {
   "cell_type": "markdown",
   "id": "bc0281e3",
   "metadata": {},
   "source": [
    "Hier komt het moment waar we kunnen beginnen met trainen van het model. Dit gebeurt via de command line. <br>\n",
    "De spacy train geeft aan dat we de training starten. Vervolgens wordt de config file meegegeven. Bij het \"--output\" argument staat de locatie waar we het model opslaan. In deze map komt het best gevonden model en het laatste aangemaakte model.<br>\n",
    "Tot slot geven we onze custom Tokenizer mee deze zorgt ervoor dat we steeds splitsen bij een comma, hiermee krijgen we de comma als een aparte token. Dit verhelpt het probleem dat het model commagetallen gaat lezen.\n",
    "> Bijvoorbeeld:  \"Am Kirchwald 347,6100 Seefeld\" => \"Am\"; \"Kirchwald\"; \"347\"; \",\"; \"6100\"; \"Seefeld\"\n",
    "\n",
    "#### Windows\n",
    "<div class=\"alert alert-block alert-info\">python -m spacy train ./config/config.cfg --output ./model --code ./config/CustomTokenizer.py</div>\n",
    "\n",
    "#### Linux\n",
    "<div class=\"alert alert-block alert-info\">python3 -m spacy train ./config/config.cfg --output ./model --code ./config/CustomTokenizer.py</div>"
   ]
  },
  {
   "cell_type": "markdown",
   "id": "7ecaf75f",
   "metadata": {},
   "source": [
    "### Run training"
   ]
  },
  {
   "cell_type": "code",
   "execution_count": null,
   "id": "59febd75",
   "metadata": {},
   "outputs": [],
   "source": [
    "import os\n",
    "os.system(\"python3 -m spacy train ./config/config.cfg --output ./model --code ./config/CustomTokenizer.py\")"
   ]
  },
  {
   "cell_type": "markdown",
   "id": "ebcbe897",
   "metadata": {},
   "source": [
    "## [Visualiseer_model](#Visualiseer_model)"
   ]
  },
  {
   "cell_type": "markdown",
   "id": "7f001181",
   "metadata": {},
   "source": [
    "In volgende code kan u een visueel beeld krijgen van uitkomsten die het model heeft gevonden.<br>\n",
    "Dit kan gedaan worden door een csv file mee te geven. Of door zelf adressen in te geven in de list die momenteel in commentaar staat. <br>\n",
    "Erna wordt het model gekozen hier hebt u de keuze uit het beste model of het laatste model.\n",
    "\n",
    "\n",
    "#### Windows\n",
    "<div class=\"alert alert-block alert-info\">python TestModel.py</div>\n",
    "\n",
    "#### Linux\n",
    "<div class=\"alert alert-block alert-info\">python3 TestModel.py</div>\n",
    "\n",
    "<div class=\"alert alert-block alert-warning\">U kan het resultaat bekijken door naar de link <a href=\"http://localhost:5000\">http://localhost:5000</a> te gaan</div>"
   ]
  },
  {
   "cell_type": "code",
   "execution_count": null,
   "id": "5bd3fa48",
   "metadata": {},
   "outputs": [],
   "source": [
    "import csv\n",
    "import spacy\n",
    "from spacy.tokens import DocBin\n",
    "from spacy import displacy\n",
    "\n",
    "# test_text = [\"Keilalahdentie 4,02150 Espoo\", \"Weisshsusstrasse 2,52066 Aachen\", \"14 rue Royale,75008 Paris\", \"Hüninger Strasse 25,14195 Berlin\", \"19 bis rue Hoche,49100 Angers\"]\n",
    "test_text = []\n",
    "with open('./data/samples/500ksample-europefilter-address.csv', newline=\"\\n\") as csvfile:\n",
    "    csvreader = csv.reader(csvfile, delimiter=',')\n",
    "    for row in csvreader:\n",
    "        row = ','.join(row)\n",
    "        test_text.append(row)\n",
    "\n",
    "nlp = spacy.load(\"./model/model-best\")\n",
    "# nlp = spacy.load(\"./model/model-last\")\n",
    "list = []\n",
    "correct_counter = 0\n",
    "total_counter = 0\n",
    "for i in test_text:    \n",
    "    doc = nlp(i)\n",
    "    if len(doc.ents) == 4:\n",
    "        total_counter += 1\n",
    "        if len(i) == len(str(doc.ents[0]) + str(doc.ents[1]) + str(doc.ents[2]) + str(doc.ents[3])) + 3:\n",
    "            list.append(doc)\n",
    "            correct_counter += 1\n",
    "colors = {\"STREET\": \"linear-gradient(90deg, #aa9cfc, #fc9ce7)\", \"NUMBER\": \"linear-gradient(90deg, #3f5efb, #fc466b)\", \"ZIPCODE\": \"linear-gradient(90deg, #090979, #00d4ff)\", \"CITY\": \"linear-gradient(90deg, #eeaeca, #94bbe9)\", \"OTHER\": \"linear-gradient(90deg, #22c1c3, #fdbb2d)\",}\n",
    "options = {\"ents\": [\"CITY\", \"STREET\", \"NUMBER\", \"ZIPCODE\", \"OTHER\"], \"colors\": colors}\n",
    "print(\"correctness\", correct_counter/total_counter)\n",
    "print(\"total\", total_counter)\n",
    "displacy.serve(list, style=\"ent\", options=options)"
   ]
  }
 ],
 "metadata": {
  "kernelspec": {
   "display_name": "Python 3 (ipykernel)",
   "language": "python",
   "name": "python3"
  },
  "language_info": {
   "codemirror_mode": {
    "name": "ipython",
    "version": 3
   },
   "file_extension": ".py",
   "mimetype": "text/x-python",
   "name": "python",
   "nbconvert_exporter": "python",
   "pygments_lexer": "ipython3",
   "version": "3.9.7"
  }
 },
 "nbformat": 4,
 "nbformat_minor": 5
}


